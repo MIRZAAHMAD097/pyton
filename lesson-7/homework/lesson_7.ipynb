#lesson 7
#1
def is_prime(n):
    if n < 2:
        return False
    for x in range(2, int(n**0.5) + 1):
        if n % x ==0:
            return False
    return True

print(is_prime(4))
print(is_prime(5))

#2
def digit_sum(k):
    return sum(int(digit) for digit in str(k))

print(digit_sum(24))
print(digit_sum(502))

#3
def number_two(n):
    k = 1
    while k <= n:
        print(k, end = " ")
        k *= 2

print(number_two(10))
