{
 "cells": [
  {
   "cell_type": "code",
   "execution_count": null,
   "id": "8667130b",
   "metadata": {},
   "outputs": [
    {
     "name": "stdout",
     "output_type": "stream",
     "text": [
      "pineapple\n"
     ]
    }
   ],
   "source": [
    "#1\n",
    "fruits=[\"apple\", \"mango\", \"orange\", \"pineapple\"]\n",
    "\n",
    "print(fruits[3])"
   ]
  },
  {
   "cell_type": "code",
   "execution_count": null,
   "id": "5a4f476c",
   "metadata": {},
   "outputs": [
    {
     "name": "stdout",
     "output_type": "stream",
     "text": [
      "[1, 2, 3, 4, 5, 6, 7, 8, 9, 10]\n"
     ]
    }
   ],
   "source": [
    "#2\n",
    "list1=[1,2,3,4,5]\n",
    "list2=[6,7,8,9,10]\n",
    "\n",
    "combine_number=list1+list2\n",
    "\n",
    "print(combine_number)"
   ]
  },
  {
   "cell_type": "code",
   "execution_count": 26,
   "id": "461f34e4",
   "metadata": {},
   "outputs": [
    {
     "name": "stdout",
     "output_type": "stream",
     "text": [
      "[15, 30, 45]\n"
     ]
    }
   ],
   "source": [
    "#3\n",
    "numbers=[15,20,25,30,35,40,45]\n",
    "\n",
    "first_number=numbers[0]\n",
    "middle_number=numbers[len(numbers)//2]\n",
    "last_number=numbers[-1]\n",
    "\n",
    "list_number=[first_number,middle_number,last_number]\n",
    "\n",
    "print(list_number)\n",
    "\n"
   ]
  },
  {
   "cell_type": "code",
   "execution_count": 27,
   "id": "41dec947",
   "metadata": {},
   "outputs": [
    {
     "name": "stdout",
     "output_type": "stream",
     "text": [
      "('the lord of the rings', 'the hobbit', 'astral', 'harry potter', 'man of steel')\n"
     ]
    }
   ],
   "source": [
    "#4\n",
    "movies=[\"the lord of the rings\",\"the hobbit\", \"astral\", \"harry potter\", \"man of steel\"]\n",
    "\n",
    "tuple=tuple(movies)\n",
    "\n",
    "print(tuple)\n"
   ]
  },
  {
   "cell_type": "code",
   "execution_count": 28,
   "id": "f90fb8e5",
   "metadata": {},
   "outputs": [
    {
     "name": "stdout",
     "output_type": "stream",
     "text": [
      "yes\n"
     ]
    }
   ],
   "source": [
    "#5\n",
    "cities=[\"texas\", \"berlin\", \"moscow\", \"paris\", \"london\"]\n",
    "\n",
    "if \"paris\" in cities:\n",
    "    print(\"yes\")\n",
    "else:\n",
    "    print(\"no\")\n",
    "\n",
    "\n"
   ]
  },
  {
   "cell_type": "code",
   "execution_count": 29,
   "id": "480b64f8",
   "metadata": {},
   "outputs": [
    {
     "name": "stdout",
     "output_type": "stream",
     "text": [
      "[1, 2, 3, 4, 1, 2, 3, 4]\n"
     ]
    }
   ],
   "source": [
    "#6\n",
    "numbers=[1,2,3,4]\n",
    "\n",
    "duplicates=numbers*2\n",
    "\n",
    "print(duplicates)"
   ]
  },
  {
   "cell_type": "code",
   "execution_count": 31,
   "id": "c9a07840",
   "metadata": {},
   "outputs": [
    {
     "name": "stdout",
     "output_type": "stream",
     "text": [
      "[4, 2, 3, 1]\n"
     ]
    }
   ],
   "source": [
    "#7\n",
    "numbers=[1,2,3,4]\n",
    "\n",
    "numbers[0], numbers[-1]=numbers[-1], numbers[0]\n",
    "\n",
    "print(numbers)"
   ]
  },
  {
   "cell_type": "code",
   "execution_count": 32,
   "id": "ead18913",
   "metadata": {},
   "outputs": [
    {
     "name": "stdout",
     "output_type": "stream",
     "text": [
      "(4, 5, 6, 7, 8)\n"
     ]
    }
   ],
   "source": [
    "#8\n",
    "numbers=(1,2,3,4,5,6,7,8,9,10)\n",
    "\n",
    "tuple=numbers[3:8]\n",
    "\n",
    "print(tuple)\n"
   ]
  },
  {
   "cell_type": "code",
   "execution_count": 33,
   "id": "28d2c3da",
   "metadata": {},
   "outputs": [
    {
     "name": "stdout",
     "output_type": "stream",
     "text": [
      "2\n"
     ]
    }
   ],
   "source": [
    "#9\n",
    "colors=[\"red\",\"blue\", \"yellow\", \"black\", \"blue\", \"green\"]\n",
    "\n",
    "number_of_blue=colors.count(\"blue\")\n",
    "\n",
    "print(number_of_blue)"
   ]
  },
  {
   "cell_type": "code",
   "execution_count": 34,
   "id": "5f9c7989",
   "metadata": {},
   "outputs": [
    {
     "name": "stdout",
     "output_type": "stream",
     "text": [
      "index of \"lion\" is 2\n"
     ]
    }
   ],
   "source": [
    "#10\n",
    "\n",
    "animals=(\"bear\", \"cheetah\", \"lion\", \"wolf\", \"cat\")\n",
    "\n",
    "index_lion=animals.index(\"lion\")\n",
    "\n",
    "print(f'index of \"lion\" is {index_lion}')"
   ]
  },
  {
   "cell_type": "code",
   "execution_count": 36,
   "id": "3037bff6",
   "metadata": {},
   "outputs": [
    {
     "name": "stdout",
     "output_type": "stream",
     "text": [
      "(1, 2, 3, 4, 5, 6, 7, 8, 9, 10)\n"
     ]
    }
   ],
   "source": [
    "#11\n",
    "tuple1=(1,2,3,4,5)\n",
    "tuple2=(6,7,8,9,10)\n",
    "\n",
    "tuple_numbers=tuple1+ tuple2\n",
    "\n",
    "print(tuple_numbers)"
   ]
  },
  {
   "cell_type": "code",
   "execution_count": 42,
   "id": "7ce56d8a",
   "metadata": {},
   "outputs": [
    {
     "name": "stdout",
     "output_type": "stream",
     "text": [
      "Length of the list: 8\n",
      "Length of the tuple: 5\n"
     ]
    }
   ],
   "source": [
    "#12\n",
    "\n",
    "numbers_list = [1, 2, 3, 4, 5, 6, 7, 8]\n",
    "numbers_tuple = (10, 20, 30, 40, 50)\n",
    "\n",
    "\n",
    "print(f\"Length of the list: {len(numbers_list)}\")\n",
    "print(f\"Length of the tuple: {len(numbers_tuple)}\")\n"
   ]
  },
  {
   "cell_type": "code",
   "execution_count": 43,
   "id": "d12c6c89",
   "metadata": {},
   "outputs": [
    {
     "name": "stdout",
     "output_type": "stream",
     "text": [
      "maximum:90\n",
      "minimum:3\n"
     ]
    }
   ],
   "source": [
    "#13\n",
    "numbers=(16,23,45,52,90,3,22)\n",
    "\n",
    "max_value=max(numbers)\n",
    "min_value=min(numbers)\n",
    "\n",
    "print(f\"maximum:{max_value}\")\n",
    "print(f\"minimum:{min_value}\")\n",
    "\n"
   ]
  },
  {
   "cell_type": "code",
   "execution_count": 44,
   "id": "5bd1450e",
   "metadata": {},
   "outputs": [
    {
     "name": "stdout",
     "output_type": "stream",
     "text": [
      "[5, 20, 25, 30, 35]\n"
     ]
    }
   ],
   "source": [
    "#14\n",
    "numberstuple=(5,20,25,30,35)\n",
    "\n",
    "numbers_list=list(numberstuple)\n",
    "\n",
    "print(numbers_list)"
   ]
  },
  {
   "cell_type": "code",
   "execution_count": 45,
   "id": "70d24833",
   "metadata": {},
   "outputs": [
    {
     "name": "stdout",
     "output_type": "stream",
     "text": [
      "('first', 'movie', 'many', 'last')\n"
     ]
    }
   ],
   "source": [
    "#15\n",
    "words_tuple=(\"last\",\"many\", \"movie\", \"first\")\n",
    "\n",
    "reversed_tuple=words_tuple[: :-1]\n",
    "\n",
    "print(reversed_tuple)\n",
    "\n"
   ]
  }
 ],
 "metadata": {
  "kernelspec": {
   "display_name": "Python 3",
   "language": "python",
   "name": "python3"
  },
  "language_info": {
   "codemirror_mode": {
    "name": "ipython",
    "version": 3
   },
   "file_extension": ".py",
   "mimetype": "text/x-python",
   "name": "python",
   "nbconvert_exporter": "python",
   "pygments_lexer": "ipython3",
   "version": "3.13.3"
  }
 },
 "nbformat": 4,
 "nbformat_minor": 5
}
