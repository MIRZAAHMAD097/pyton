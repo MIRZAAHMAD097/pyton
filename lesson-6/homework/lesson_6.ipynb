#lesson 6
#1

def underscore(txt):
    vowels = "aeiouAEIOU"
    result = []
    count = 0
    i = 0
    
    while i < len(txt):
        result.append(txt[i])
        count += 1     
        if count == 3 and i < len(txt) - 1:
            if txt[i] in vowels or txt[i+1] == "_":
                count = 0  
            else:
                result.append("_")
                count = 0  
        i += 1
    return "".join(result)

print(underscore("hello"))
print(underscore("assalom"))
print(underscore("abcabcabcdeabcdefabcdefg"))


#2

n = int(input("enter a number (1 <=n <=20): "))

if 1 <=n <=20:
    for i in range(n):
        print(i**2)

else:
    print("invalid number!")


#3
#ex 1
number= 1
while number <=10:
    print(number)
    number +=1

#ex 2

n = 5

for i in range(1, n + 1):
    for j in range(1, i + 1):
        print(j, end=" ")
    print()

#ex 3
n = int(input("enter a number: "))

total = n * (n-1) // 2

print(f"sum is {total}")

#ex 4
number = int(input("enter a number: "))

for i in range(1, 11):
    print(number * i)

#5

numbers = [12, 75, 150, 180, 145, 525, 50]

for x in numbers:
    if x == 75 or x == 150 or x ==145:
        print(x)

#ex 6

number = int(input("enter a number: "))

count_number = len(str(number))

print(count_number)


#ex 7

n = 5

for i in range(n, 0, -1):
    for j in range(i, 0, -1):
        print(j, end = " ")
    print()
    

#ex 8

list1 = [10, 20, 30, 40, 50]

for item in reversed(list1):
    print(item)
    

#EX 9

for x in range(-10, 0):
    print(x)

#ex 10
for x in range(5):
    print(x)
else:
    print("done")

#ex 11
def prime_numbers(number):
    if number < 2:
        return False
    for x in range(2, int(number ** 0.5) + 1):
        if number % x == 0:
            return False
    return True

start = 25
end = 50

print(f"prime numbers between {start} and {end}: ")
for number in range(start, end + 1):
    if prime_numbers(number):
        print(number)
        

#ex 12

def fibonacci(n):
    febo = [0,1]
    for _ in range(n - 2):
        febo.append(febo[-1] + febo[-2])
    return febo

n = 10
print("fibonacci: ")
print(*fibonacci(n))

#ex 13
def factorial(n):
 
    if n == 0 or n == 1:
        return 1  
    else:
        return n * factorial(n - 1)  

# Get user input
num = int(input("Enter a number: "))


print(f"{num}! = {factorial(num)}")

#4
def uncommon_elements(list1, list2):
    
    return [item for item in list1 if item not in list2] + [item for item in list2 if item not in list1]


print(uncommon_elements([1, 1, 2], [2, 3, 4])) 
print(uncommon_elements([1, 2, 3], [4, 5, 6]))  
print(uncommon_elements([1, 1, 2, 3, 4, 2], [1, 3, 4, 5])) 
